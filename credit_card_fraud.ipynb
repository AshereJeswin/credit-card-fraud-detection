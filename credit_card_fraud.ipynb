{
  "metadata": {
    "kernelspec": {
      "language": "python",
      "display_name": "Python 3",
      "name": "python3"
    },
    "language_info": {
      "name": "python",
      "version": "3.7.12",
      "mimetype": "text/x-python",
      "codemirror_mode": {
        "name": "ipython",
        "version": 3
      },
      "pygments_lexer": "ipython3",
      "nbconvert_exporter": "python",
      "file_extension": ".py"
    },
    "colab": {
      "provenance": []
    }
  },
  "nbformat_minor": 0,
  "nbformat": 4,
  "cells": [
    {
      "cell_type": "markdown",
      "source": [
        "# Credit Card fraud"
      ],
      "metadata": {
        "id": "-1p6vUlWa_78"
      }
    },
    {
      "cell_type": "markdown",
      "source": [
        "Ashere Jeswin - 21PD02\n",
        "\n",
        "Harini.K.V - 21PD10\n",
        "\n",
        "V.K.Deeksha - 21PD37"
      ],
      "metadata": {
        "id": "fYkdwTBHbGTb"
      }
    },
    {
      "cell_type": "markdown",
      "source": [
        "### Context\n",
        "\n",
        "It is important that credit card companies are able to recognize fraudulent credit card transactions so that customers are not charged for items that they did not purchase.\n",
        "\n",
        "### Content\n",
        "\n",
        "The dataset contains transactions made by credit cards in September 2013 by European cardholders.\n",
        "This dataset presents transactions that occurred in two days, where we have 492 frauds out of 284,807 transactions. The dataset is highly unbalanced, the positive class (frauds) account for 0.172% of all transactions.\n",
        "\n",
        "It contains only numerical input variables which are the result of a PCA transformation. Unfortunately, due to confidentiality issues, we cannot provide the original features and more background information about the data. Features V1, V2, … V28 are the principal components obtained with PCA, the only features which have not been transformed with PCA are 'Time' and 'Amount'. Feature 'Time' contains the seconds elapsed between each transaction and the first transaction in the dataset. The feature 'Amount' is the transaction Amount, this feature can be used for example-dependant cost-sensitive learning. Feature 'Class' is the response variable and it takes value 1 in case of fraud and 0 otherwise.\n",
        "\n"
      ],
      "metadata": {
        "id": "zk3fLhcMa_8A"
      }
    },
    {
      "cell_type": "code",
      "source": [
        "from matplotlib import pyplot as plt\n",
        "import seaborn as sns\n",
        "from IPython.display import Image"
      ],
      "metadata": {
        "execution": {
          "iopub.status.busy": "2023-03-24T09:03:50.851837Z",
          "iopub.execute_input": "2023-03-24T09:03:50.852305Z",
          "iopub.status.idle": "2023-03-24T09:03:51.922905Z",
          "shell.execute_reply.started": "2023-03-24T09:03:50.852213Z",
          "shell.execute_reply": "2023-03-24T09:03:51.921820Z"
        },
        "trusted": true,
        "id": "9rg6ntyDa_8C"
      },
      "execution_count": null,
      "outputs": []
    },
    {
      "cell_type": "code",
      "source": [
        "import numpy as np\n",
        "import pandas as pd\n",
        "import seaborn as sns\n",
        "import plotly.express as px\n",
        "from matplotlib import pyplot as plt\n",
        "from sklearn.model_selection import cross_val_score\n",
        "\n",
        "from sklearn import metrics\n",
        "from collections import Counter"
      ],
      "metadata": {
        "execution": {
          "iopub.status.busy": "2023-03-24T09:03:51.925075Z",
          "iopub.execute_input": "2023-03-24T09:03:51.925609Z",
          "iopub.status.idle": "2023-03-24T09:03:53.331546Z",
          "shell.execute_reply.started": "2023-03-24T09:03:51.925565Z",
          "shell.execute_reply": "2023-03-24T09:03:53.330223Z"
        },
        "trusted": true,
        "id": "lHLReBCya_8E"
      },
      "execution_count": null,
      "outputs": []
    },
    {
      "cell_type": "code",
      "source": [
        "try:\n",
        "    raw_df = pd.read_csv('../input/creditcardfraud/creditcard.csv')\n",
        "except:\n",
        "    raw_df = pd.read_csv('creditcard.csv')"
      ],
      "metadata": {
        "execution": {
          "iopub.status.busy": "2023-03-24T09:03:53.333172Z",
          "iopub.execute_input": "2023-03-24T09:03:53.334279Z",
          "iopub.status.idle": "2023-03-24T09:03:58.327098Z",
          "shell.execute_reply.started": "2023-03-24T09:03:53.334210Z",
          "shell.execute_reply": "2023-03-24T09:03:58.325798Z"
        },
        "trusted": true,
        "id": "Cfmw6YtPa_8F"
      },
      "execution_count": null,
      "outputs": []
    },
    {
      "cell_type": "markdown",
      "source": [
        "##  Data imbalance check"
      ],
      "metadata": {
        "id": "uKcZm9Lza_8G"
      }
    },
    {
      "cell_type": "code",
      "source": [
        "labels=[\"Genuine\",\"Fraud\"]\n",
        "\n",
        "fraud_or_not = raw_df[\"Class\"].value_counts().tolist()\n",
        "values = [fraud_or_not[0], fraud_or_not[1]]\n",
        "\n",
        "fig = px.pie(values=raw_df['Class'].value_counts(), names=labels , width=700, height=400, color_discrete_sequence=[\"skyblue\",\"black\"]\n",
        "             ,title=\"Fraud vs Genuine transactions\")\n",
        "fig.show()"
      ],
      "metadata": {
        "execution": {
          "iopub.status.busy": "2023-03-24T09:20:19.749783Z",
          "iopub.status.idle": "2023-03-24T09:20:19.750460Z",
          "shell.execute_reply.started": "2023-03-24T09:20:19.750250Z",
          "shell.execute_reply": "2023-03-24T09:20:19.750271Z"
        },
        "trusted": true,
        "id": "7RviUaBya_8H"
      },
      "execution_count": null,
      "outputs": []
    },
    {
      "cell_type": "code",
      "source": [
        "plt.figure(figsize=(3,4))\n",
        "ax = sns.countplot(x='Class',data=raw_df,palette=\"pastel\")\n",
        "for i in ax.containers:\n",
        "    ax.bar_label(i,)"
      ],
      "metadata": {
        "execution": {
          "iopub.status.busy": "2023-03-24T09:03:59.533154Z",
          "iopub.execute_input": "2023-03-24T09:03:59.533606Z",
          "iopub.status.idle": "2023-03-24T09:03:59.791564Z",
          "shell.execute_reply.started": "2023-03-24T09:03:59.533570Z",
          "shell.execute_reply": "2023-03-24T09:03:59.790641Z"
        },
        "trusted": true,
        "id": "2rxH76haa_8H",
        "outputId": "3131c0d9-65d1-493e-928e-b6c5dee2fbc6"
      },
      "execution_count": null,
      "outputs": [
        {
          "output_type": "display_data",
          "data": {
            "text/plain": "<Figure size 216x288 with 1 Axes>",
            "image/png": "[encoded data removed]"
          },
          "metadata": {
            "needs_background": "light"
          }
        }
      ]
    },
    {
      "cell_type": "code",
      "source": [
        "print('Genuine:', round(raw_df['Class'].value_counts()[0]/len(raw_df) * 100,2), '% of the dataset')\n",
        "print('Frauds:', round(raw_df['Class'].value_counts()[1]/len(raw_df) * 100,2), '% of the dataset')"
      ],
      "metadata": {
        "execution": {
          "iopub.status.busy": "2023-03-24T09:03:59.793154Z",
          "iopub.execute_input": "2023-03-24T09:03:59.794225Z",
          "iopub.status.idle": "2023-03-24T09:03:59.808313Z",
          "shell.execute_reply.started": "2023-03-24T09:03:59.794178Z",
          "shell.execute_reply": "2023-03-24T09:03:59.806936Z"
        },
        "trusted": true,
        "id": "7H1AoR6ma_8K",
        "outputId": "e7450fba-b7a5-45e7-b67c-9bfecb9054a3"
      },
      "execution_count": null,
      "outputs": [
        {
          "name": "stdout",
          "text": "Genuine: 99.83 % of the dataset\nFrauds: 0.17 % of the dataset\n",
          "output_type": "stream"
        }
      ]
    },
    {
      "cell_type": "markdown",
      "source": [
        "![imbalanced.png](attachment:05aaa524-09eb-4ed8-a107-bb43519b093d.png)"
      ],
      "metadata": {
        "id": "ox3Z0zpWa_8L"
      }
    },
    {
      "cell_type": "markdown",
      "source": [
        "##  99.8% Accuracy score before implementing any model"
      ],
      "metadata": {
        "id": "6wT2C3GOa_8L"
      }
    },
    {
      "cell_type": "markdown",
      "source": [
        "Don't use accuracy score as a metric with imbalanced datasets - it will be usually high and misleading. In this dataset:\n",
        "\n",
        "* we have **99,8%** of Genuine transactions and only **0,173%** (492) of fraud transactions;\n",
        "\n",
        "* whis means that a blind guess (bet on Genuine) would give us accuracy of **99,8%**."
      ],
      "metadata": {
        "id": "N3BKy-2Wa_8M"
      }
    },
    {
      "cell_type": "markdown",
      "source": [
        "#  Data pre-processing"
      ],
      "metadata": {
        "id": "LsOstSNva_8M"
      }
    },
    {
      "cell_type": "markdown",
      "source": [
        "##  Dropping duplicated values"
      ],
      "metadata": {
        "id": "0xnsPyd5a_8N"
      }
    },
    {
      "cell_type": "code",
      "source": [
        "df = raw_df.copy()\n",
        "\n",
        "df.drop_duplicates(inplace=True)\n",
        "print(\"Duplicated values dropped succesfully\")"
      ],
      "metadata": {
        "execution": {
          "iopub.status.busy": "2023-03-24T09:20:19.746652Z",
          "iopub.status.idle": "2023-03-24T09:20:19.747012Z",
          "shell.execute_reply.started": "2023-03-24T09:20:19.746836Z",
          "shell.execute_reply": "2023-03-24T09:20:19.746853Z"
        },
        "trusted": true,
        "id": "3RGiV5Wza_8N"
      },
      "execution_count": null,
      "outputs": []
    },
    {
      "cell_type": "code",
      "source": [
        "df = df.drop('Time', axis=1)"
      ],
      "metadata": {
        "execution": {
          "iopub.status.busy": "2023-03-24T09:04:01.044100Z",
          "iopub.execute_input": "2023-03-24T09:04:01.044597Z",
          "iopub.status.idle": "2023-03-24T09:04:01.075761Z",
          "shell.execute_reply.started": "2023-03-24T09:04:01.044552Z",
          "shell.execute_reply": "2023-03-24T09:04:01.074345Z"
        },
        "trusted": true,
        "id": "xyBJNB93a_8O"
      },
      "execution_count": null,
      "outputs": []
    },
    {
      "cell_type": "markdown",
      "source": [
        "###  Checking for outliers"
      ],
      "metadata": {
        "id": "z1K4Ky2Va_8O"
      }
    },
    {
      "cell_type": "code",
      "source": [
        "numeric_columns = (list(df.loc[:, 'V1':'Amount']))"
      ],
      "metadata": {
        "execution": {
          "iopub.status.busy": "2023-03-24T09:04:01.077220Z",
          "iopub.execute_input": "2023-03-24T09:04:01.077628Z",
          "iopub.status.idle": "2023-03-24T09:04:01.114122Z",
          "shell.execute_reply.started": "2023-03-24T09:04:01.077594Z",
          "shell.execute_reply": "2023-03-24T09:04:01.112809Z"
        },
        "trusted": true,
        "id": "GXnmS0SEa_8O"
      },
      "execution_count": null,
      "outputs": []
    },
    {
      "cell_type": "code",
      "source": [
        "# checking boxplots\n",
        "def boxplots_custom(dataset, columns_list, rows, cols, suptitle):\n",
        "    fig, axs = plt.subplots(rows, cols, sharey=True, figsize=(16,25))\n",
        "    fig.suptitle(suptitle,y=1, size=25)\n",
        "    axs = axs.flatten()\n",
        "    for i, data in enumerate(columns_list):\n",
        "        sns.boxplot(data=dataset[data], orient='h', ax=axs[i])\n",
        "        axs[i].set_title(data + ', skewness is: '+str(round(dataset[data].skew(axis = 0, skipna = True),2)))\n",
        "        \n",
        "boxplots_custom(dataset=df, columns_list=numeric_columns, rows=10, cols=3, suptitle='Boxplots for each variable')\n",
        "plt.tight_layout()"
      ],
      "metadata": {
        "execution": {
          "iopub.status.busy": "2023-03-24T09:04:01.119854Z",
          "iopub.execute_input": "2023-03-24T09:04:01.120290Z",
          "iopub.status.idle": "2023-03-24T09:04:06.857268Z",
          "shell.execute_reply.started": "2023-03-24T09:04:01.120240Z",
          "shell.execute_reply": "2023-03-24T09:04:06.856011Z"
        },
        "trusted": true,
        "id": "ZvhViJn9a_8P",
        "outputId": "26d7163b-03f6-49cd-eb18-cfa7d6377ba8"
      },
      "execution_count": null,
      "outputs": [
        {
          "output_type": "display_data",
          "data": {
            "text/plain": "<Figure size 1152x1800 with 30 Axes>",
            "image/png": "[encoded data removed]"
          },
          "metadata": {
            "needs_background": "light"
          }
        }
      ]
    },
    {
      "cell_type": "markdown",
      "source": [
        "###  Inter Quartile Range (IQR)"
      ],
      "metadata": {
        "id": "ILDOCXXQa_8Q"
      }
    },
    {
      "cell_type": "markdown",
      "source": [
        "\n",
        "\n",
        "Inter Quartile Range (IQR) is one of the most extensively used procedure for outlier detection and removal.\n",
        "\n",
        "Procedure:\n",
        "\n",
        "1. Find the first quartile, Q1.\n",
        "2. Find the third quartile, Q3.\n",
        "3. Calculate the IQR. IQR = Q3-Q1.\n",
        "4. Define the normal data range with lower limit as Q1–1.5 IQR and upper limit as Q3+1.5 IQR.\n",
        "\n"
      ],
      "metadata": {
        "id": "GsvToMzfa_8Q"
      }
    },
    {
      "cell_type": "code",
      "source": [
        "def IQR_method (df,n,features):\n",
        "    \"\"\"\n",
        "    Takes a dataframe and returns an index list corresponding to the observations \n",
        "    containing more than n outliers according to the Tukey IQR method.\n",
        "    \"\"\"\n",
        "    outlier_list = []\n",
        "    \n",
        "    for column in features:\n",
        "        # 1st quartile (25%)\n",
        "        Q1 = np.percentile(df[column], 25)\n",
        "        # 3rd quartile (75%)\n",
        "        Q3 = np.percentile(df[column],75)\n",
        "        # Interquartile range (IQR)\n",
        "        IQR = Q3 - Q1\n",
        "        # outlier step\n",
        "        outlier_step = 1.5 * IQR\n",
        "        # Determining a list of indices of outliers\n",
        "        outlier_list_column = df[(df[column] < Q1 - outlier_step) | (df[column] > Q3 + outlier_step )].index\n",
        "        # appending the list of outliers \n",
        "        outlier_list.extend(outlier_list_column)\n",
        "        \n",
        "    # selecting observations containing more than x outliers\n",
        "    outlier_list = Counter(outlier_list)        \n",
        "    multiple_outliers = list( k for k, v in outlier_list.items() if v > n )\n",
        "    \n",
        "    # Calculate the number of records below and above lower and above bound value respectively\n",
        "    out1 = df[df[column] < Q1 - outlier_step]\n",
        "    out2 = df[df[column] > Q3 + outlier_step]\n",
        "    \n",
        "    print('Total number of deleted outliers is:', out1.shape[0]+out2.shape[0])\n",
        "    \n",
        "    return multiple_outliers"
      ],
      "metadata": {
        "execution": {
          "iopub.status.busy": "2023-03-24T09:04:06.858597Z",
          "iopub.execute_input": "2023-03-24T09:04:06.859003Z",
          "iopub.status.idle": "2023-03-24T09:04:06.873717Z",
          "shell.execute_reply.started": "2023-03-24T09:04:06.858968Z",
          "shell.execute_reply": "2023-03-24T09:04:06.872188Z"
        },
        "trusted": true,
        "id": "yAab9bkSa_8R"
      },
      "execution_count": null,
      "outputs": []
    },
    {
      "cell_type": "code",
      "source": [
        "# detecting outliers\n",
        "Outliers_IQR = IQR_method(df,1,numeric_columns)\n",
        "\n",
        "# dropping outliers\n",
        "df_out = df.drop(Outliers_IQR, axis = 0).reset_index(drop=True)"
      ],
      "metadata": {
        "execution": {
          "iopub.status.busy": "2023-03-24T09:04:06.875657Z",
          "iopub.execute_input": "2023-03-24T09:04:06.876571Z",
          "iopub.status.idle": "2023-03-24T09:04:07.550618Z",
          "shell.execute_reply.started": "2023-03-24T09:04:06.876510Z",
          "shell.execute_reply": "2023-03-24T09:04:07.549322Z"
        },
        "trusted": true,
        "id": "qpeERJG2a_8R",
        "outputId": "31773ac9-c328-420e-99c5-c2492d520df9"
      },
      "execution_count": null,
      "outputs": [
        {
          "name": "stdout",
          "text": "Total number of deleted outliers is: 31685\n",
          "output_type": "stream"
        }
      ]
    },
    {
      "cell_type": "code",
      "source": [
        "plt.figure(figsize=(3,4))\n",
        "ax = sns.countplot(x='Class',data=df_out,palette=\"pastel\")\n",
        "for i in ax.containers:\n",
        "    ax.bar_label(i,)"
      ],
      "metadata": {
        "execution": {
          "iopub.status.busy": "2023-03-24T09:04:07.552472Z",
          "iopub.execute_input": "2023-03-24T09:04:07.553483Z",
          "iopub.status.idle": "2023-03-24T09:04:07.785923Z",
          "shell.execute_reply.started": "2023-03-24T09:04:07.553406Z",
          "shell.execute_reply": "2023-03-24T09:04:07.784472Z"
        },
        "trusted": true,
        "id": "chd1j3T0a_8S",
        "outputId": "e45be78c-84f7-4038-d9ad-74316d825a59"
      },
      "execution_count": null,
      "outputs": [
        {
          "output_type": "display_data",
          "data": {
            "text/plain": "<Figure size 216x288 with 1 Axes>",
            "image/png": "[encoded data removed]"
          },
          "metadata": {
            "needs_background": "light"
          }
        }
      ]
    },
    {
      "cell_type": "markdown",
      "source": [
        "We stayed with only **26** fraud transactions in entire data frame!\n",
        "\n",
        "#### We deleted almost all fraud transactions from a dataframe!\n",
        "\n",
        "We have a few options here, but for that study we will just come back to the stage just before dropping outliers.\n",
        "\n"
      ],
      "metadata": {
        "id": "qCwBbfG4a_8T"
      }
    },
    {
      "cell_type": "markdown",
      "source": [
        "## Stratified splitting"
      ],
      "metadata": {
        "id": "kMBO472Pa_8T"
      }
    },
    {
      "cell_type": "markdown",
      "source": [
        "Stratified splitting means that when you generate a training / validation dataset split, it will attempt to keep the same percentages of classes in each split.\n",
        "\n",
        "These dataset divisions are usually generated randomly according to a target variable. However, when doing so, the proportions of the target variable among the different splits can differ, especially in the case of small datasets."
      ],
      "metadata": {
        "id": "suUh-hr5a_8T"
      }
    },
    {
      "cell_type": "code",
      "source": [
        "X = df.drop('Class', axis=1)\n",
        "y = df['Class']"
      ],
      "metadata": {
        "execution": {
          "iopub.status.busy": "2023-03-24T09:04:07.787512Z",
          "iopub.execute_input": "2023-03-24T09:04:07.787998Z",
          "iopub.status.idle": "2023-03-24T09:04:07.825748Z",
          "shell.execute_reply.started": "2023-03-24T09:04:07.787950Z",
          "shell.execute_reply": "2023-03-24T09:04:07.824576Z"
        },
        "trusted": true,
        "id": "XoKvuXBia_8U"
      },
      "execution_count": null,
      "outputs": []
    },
    {
      "cell_type": "code",
      "source": [
        "from sklearn.model_selection import train_test_split\n",
        "X_train, X_test, y_train, y_test = train_test_split(X, y, stratify=y, test_size = 0.3, random_state = 42)"
      ],
      "metadata": {
        "execution": {
          "iopub.status.busy": "2023-03-24T09:04:07.827221Z",
          "iopub.execute_input": "2023-03-24T09:04:07.827993Z",
          "iopub.status.idle": "2023-03-24T09:04:08.025124Z",
          "shell.execute_reply.started": "2023-03-24T09:04:07.827955Z",
          "shell.execute_reply": "2023-03-24T09:04:08.023816Z"
        },
        "trusted": true,
        "id": "FAuhyM__a_8U"
      },
      "execution_count": null,
      "outputs": []
    },
    {
      "cell_type": "markdown",
      "source": [
        "#  Feature scaling"
      ],
      "metadata": {
        "id": "wqoLBz0Ea_8V"
      }
    },
    {
      "cell_type": "code",
      "source": [
        "from sklearn.preprocessing import StandardScaler\n",
        "\n",
        "# Creating function for scaling\n",
        "def Standard_Scaler (df, col_names):\n",
        "    features = df[col_names]\n",
        "    scaler = StandardScaler().fit(features.values)\n",
        "    features = scaler.transform(features.values)\n",
        "    df[col_names] = features\n",
        "    \n",
        "    return df"
      ],
      "metadata": {
        "execution": {
          "iopub.status.busy": "2023-03-24T09:04:08.026931Z",
          "iopub.execute_input": "2023-03-24T09:04:08.027313Z",
          "iopub.status.idle": "2023-03-24T09:04:08.033912Z",
          "shell.execute_reply.started": "2023-03-24T09:04:08.027276Z",
          "shell.execute_reply": "2023-03-24T09:04:08.032512Z"
        },
        "trusted": true,
        "id": "xDC0OQ-aa_8V"
      },
      "execution_count": null,
      "outputs": []
    },
    {
      "cell_type": "code",
      "source": [
        "col_names = ['Amount']\n",
        "X_train = Standard_Scaler (X_train, col_names)\n",
        "X_test = Standard_Scaler (X_test, col_names)"
      ],
      "metadata": {
        "execution": {
          "iopub.status.busy": "2023-03-24T09:04:08.036009Z",
          "iopub.execute_input": "2023-03-24T09:04:08.036558Z",
          "iopub.status.idle": "2023-03-24T09:04:08.057748Z",
          "shell.execute_reply.started": "2023-03-24T09:04:08.036507Z",
          "shell.execute_reply": "2023-03-24T09:04:08.056449Z"
        },
        "trusted": true,
        "id": "K9Cf2ehJa_8W"
      },
      "execution_count": null,
      "outputs": []
    },
    {
      "cell_type": "markdown",
      "source": [
        "## Cross-validation"
      ],
      "metadata": {
        "id": "VuehszYUa_8W"
      }
    },
    {
      "cell_type": "markdown",
      "source": [
        "The best model is not the one that gives accurate predictions on the training data, but the one which gives good predictions on the new data and avoids overfitting and underfitting.\n",
        "\n",
        "Cross-validation is a resampling procedure used to evaluate machine learning models on a limited data sample. The procedure has a single parameter called k that refers to the number of groups that a given data sample is to be split into. As such, the procedure is often called k-fold cross-validation.\n",
        "\n",
        "The purpose of cross–validation is to test the ability of a machine learning model to predict new data. "
      ],
      "metadata": {
        "id": "U_9agSFna_8X"
      }
    },
    {
      "cell_type": "markdown",
      "source": [
        "![crossval.png](attachment:e8959750-2feb-4158-831f-b695b1cda15c.png)"
      ],
      "metadata": {
        "id": "8EigTkIUa_8Y"
      }
    },
    {
      "cell_type": "markdown",
      "source": [
        "##  Stratified K-Fold CV (Cross-Validation)"
      ],
      "metadata": {
        "id": "ry05TIQ4a_8Z"
      }
    },
    {
      "cell_type": "markdown",
      "source": [
        "Stratification is used when the datasets contain unbalanced classes. Therefore if we cross-validate with a normal technique it may produce subsamples that have a varying distribution of classes. Some unbalanced samples may produce exceptionally high scores leading to a high cross-validation score overall, which is undesirable. Therefore we create stratified subsamples that preserve the class frequencies in the individual folds to ensure that we are able to get a clear picture of the model performance."
      ],
      "metadata": {
        "id": "kbnFX5UVa_8Z"
      }
    },
    {
      "cell_type": "markdown",
      "source": [
        "##  Oversample/undersample and Cross Validation"
      ],
      "metadata": {
        "id": "1h1y6v6ma_8a"
      }
    },
    {
      "cell_type": "markdown",
      "source": [
        "![download.png](attachment:8b78dcc3-9609-4fa1-94bd-7a6d10629624.png)![underover.png](attachment:45e3d81b-b4b2-43d1-8133-9cbf0337ee92.png)"
      ],
      "metadata": {
        "id": "VJzdLspRa_8a"
      }
    },
    {
      "cell_type": "markdown",
      "source": [
        "If you want to undersample or oversample your data you shouldn't do it before cross validating because you will be directly influencing the validation set before implementing cross-validation causing a \"data leakage\" problem.\n",
        "\n",
        "Exactly like we should do feature selection inside the cross validation loop, we should also oversample inside the loop."
      ],
      "metadata": {
        "id": "FVs4EfJZa_8b"
      }
    },
    {
      "cell_type": "code",
      "source": [
        "from sklearn.model_selection import StratifiedKFold\n",
        "from sklearn.ensemble import RandomForestClassifier\n",
        "\n",
        "#We are going to ensure that we have the same splits of the data every time. \n",
        "#We can ensure this by creating a KFold object, kf, and passing cv=kf instead of the more common cv=5.\n",
        "\n",
        "kf = StratifiedKFold(n_splits=5, shuffle=False)"
      ],
      "metadata": {
        "execution": {
          "iopub.status.busy": "2023-03-24T09:04:08.058902Z",
          "iopub.execute_input": "2023-03-24T09:04:08.059285Z",
          "iopub.status.idle": "2023-03-24T09:04:08.268693Z",
          "shell.execute_reply.started": "2023-03-24T09:04:08.059250Z",
          "shell.execute_reply": "2023-03-24T09:04:08.267693Z"
        },
        "trusted": true,
        "id": "rkPsPHqJa_8b"
      },
      "execution_count": null,
      "outputs": []
    },
    {
      "cell_type": "markdown",
      "source": [
        "Random forest is a machine learning algorithm used for classification and regression tasks. It is an ensemble learning method that combines multiple decision trees to create a more accurate and stable model.\n",
        "\n",
        "In a random forest model, a set of decision trees is built on randomly selected subsets of the training data, and the results are aggregated to produce the final output. Each decision tree is trained on a random subset of the features in the dataset, which helps to reduce overfitting and improve generalization."
      ],
      "metadata": {
        "id": "vrv61Rm8a_8c"
      }
    },
    {
      "cell_type": "code",
      "source": [
        "rf = RandomForestClassifier(n_estimators=100, random_state=13)\n",
        "#cross_val_score(rf, X_train, y_train, cv=kf, scoring='recall')"
      ],
      "metadata": {
        "execution": {
          "iopub.status.busy": "2023-03-24T09:04:08.270384Z",
          "iopub.execute_input": "2023-03-24T09:04:08.270740Z",
          "iopub.status.idle": "2023-03-24T09:04:08.275997Z",
          "shell.execute_reply.started": "2023-03-24T09:04:08.270709Z",
          "shell.execute_reply": "2023-03-24T09:04:08.274773Z"
        },
        "trusted": true,
        "id": "YuFZxVH2a_8c"
      },
      "execution_count": null,
      "outputs": []
    },
    {
      "cell_type": "markdown",
      "source": [
        "#  Metrics for imbalanced data"
      ],
      "metadata": {
        "id": "Sf8pa5Boa_8c"
      }
    },
    {
      "cell_type": "markdown",
      "source": [
        "## Choosing metrics"
      ],
      "metadata": {
        "id": "4ee4GcCga_8d"
      }
    },
    {
      "cell_type": "markdown",
      "source": [
        "The most common metrics to use for imbalanced datasets are:\n",
        "\n",
        "* F1 score\n",
        "* Precision\n",
        "* Recall\n",
        "* AUC score (AUC ROC)\n",
        "* Average precision score (AP)\n",
        "* G-Mean\n",
        "\n",
        "It is good practice to track multiple metrics when developing a machine learning model as each highlights different aspects of model performance. "
      ],
      "metadata": {
        "id": "ueAIKH4ua_8d"
      }
    },
    {
      "cell_type": "markdown",
      "source": [
        "![metrics.png](attachment:956255a6-64a8-4676-8191-0c678ec02483.png)"
      ],
      "metadata": {
        "id": "KiFu7jTAa_8e"
      }
    },
    {
      "cell_type": "markdown",
      "source": [
        "##  Optimising for Recall"
      ],
      "metadata": {
        "id": "vwGy7kPva_8e"
      }
    },
    {
      "cell_type": "markdown",
      "source": [
        "Recall: **The ability of a model to find all the relevant cases within a data set**. The number of true positives divided by the number of true positives plus the number of false negatives.\n",
        "\n",
        "In the case of credit card fraud detection, we want to avoid false negatives as much as possible. Fraud transactions cost us a lot and thus we want to take appropriate measures to prevent them. A false negative case means that a fraud-positive transaction is assessed to genuine transaction, which is detrimental. In this use case, false positives (a genuine transaction as fraud-positive) are not as important as preventing a fraud."
      ],
      "metadata": {
        "id": "qEmh46XNa_8e"
      }
    },
    {
      "cell_type": "code",
      "source": [
        "score = cross_val_score(rf, X_train, y_train, cv=kf, scoring='recall')\n",
        "print(\"Cross Validation Recall scores are: {}\".format(score))\n",
        "print(\"Average Cross Validation Recall score: {}\".format(score.mean()))"
      ],
      "metadata": {
        "execution": {
          "iopub.status.busy": "2023-03-24T09:04:08.277767Z",
          "iopub.execute_input": "2023-03-24T09:04:08.278213Z",
          "iopub.status.idle": "2023-03-24T09:16:40.423126Z",
          "shell.execute_reply.started": "2023-03-24T09:04:08.278165Z",
          "shell.execute_reply": "2023-03-24T09:16:40.421793Z"
        },
        "trusted": true,
        "id": "ugHhBKBea_8f",
        "outputId": "f67afde1-747b-4337-c872-595337ef39bd"
      },
      "execution_count": null,
      "outputs": [
        {
          "name": "stdout",
          "text": "Cross Validation Recall scores are: [0.8030303  0.74242424 0.76119403 0.87878788 0.65151515]\nAverage Cross Validation Recall score: 0.7673903211216644\n",
          "output_type": "stream"
        }
      ]
    },
    {
      "cell_type": "markdown",
      "source": [
        "## When is Precision more important over Recall?"
      ],
      "metadata": {
        "id": "BWwlieC7a_8f"
      }
    },
    {
      "cell_type": "markdown",
      "source": [
        "Precision is more important than Recall when you would like to have less False Positives in trade off to have more False Negatives. Meaning, getting a False Positive is very costly, and a False Negative is not as much."
      ],
      "metadata": {
        "id": "do0w1z9Ga_8g"
      }
    },
    {
      "cell_type": "markdown",
      "source": [
        "![image.png](attachment:c2e0e361-c78b-42e4-b706-0a90cd261d7a.png)![image.png](attachment:fdc7709b-e364-4030-abc4-b9a1a96c5c15.png)![download.png](attachment:6b03b2c6-0160-4ce5-93eb-df87fbeb2b09.png)"
      ],
      "metadata": {
        "id": "F3J2jfkNa_8g"
      }
    },
    {
      "cell_type": "markdown",
      "source": [
        "##  Hyperparameter Tuning Using GridSearchCV"
      ],
      "metadata": {
        "id": "TDjLyLdEa_8g"
      }
    },
    {
      "cell_type": "markdown",
      "source": [
        "Hyperparameter tuning is the process of tuning the parameters present as the tuples while we build machine learning models. These parameters are defined by us. Machine learning algorithms never learn these parameters. These can be tuned in different step.\n",
        "\n",
        "GridSearchCV is a technique for finding the optimal hyperparameter values from a given set of parameters in a grid. It's essentially a cross-validation technique. The model as well as the parameters must be entered. After extracting the best parameter values, predictions are made.\n",
        "\n",
        "The “best” parameters that GridSearchCV identifies are technically the best that could be produced, but only by the parameters that you included in your parameter grid."
      ],
      "metadata": {
        "id": "CkIkx8Rfa_8h"
      }
    },
    {
      "cell_type": "code",
      "source": [
        "from sklearn.model_selection import GridSearchCV\n",
        "\n",
        "params = {\n",
        "    'n_estimators': [50, 100, 200],\n",
        "    'max_depth': [4, 6, 10, 12],\n",
        "    'random_state': [13]\n",
        "}\n",
        "\n",
        "grid_rf = GridSearchCV(rf, param_grid=params, cv=kf, \n",
        "                          scoring='recall').fit(X_train, y_train)"
      ],
      "metadata": {
        "execution": {
          "iopub.status.busy": "2023-03-24T09:38:30.337694Z",
          "iopub.execute_input": "2023-03-24T09:38:30.338542Z"
        },
        "trusted": true,
        "id": "pyI-jebYa_8h"
      },
      "execution_count": null,
      "outputs": []
    },
    {
      "cell_type": "code",
      "source": [
        "print('Best parameters:', grid_rf.best_params_)\n",
        "print('Best score:', grid_rf.best_score_)"
      ],
      "metadata": {
        "execution": {
          "iopub.status.busy": "2023-03-24T09:38:23.082327Z",
          "iopub.status.idle": "2023-03-24T09:38:23.082765Z",
          "shell.execute_reply.started": "2023-03-24T09:38:23.082563Z",
          "shell.execute_reply": "2023-03-24T09:38:23.082584Z"
        },
        "trusted": true,
        "id": "U96DeztJa_8i"
      },
      "execution_count": null,
      "outputs": []
    },
    {
      "cell_type": "markdown",
      "source": [
        "We have about 77% Recall on one of our models before oversampling. Let's check the test set scores."
      ],
      "metadata": {
        "id": "vBEZ4Zz5a_8i"
      }
    },
    {
      "cell_type": "code",
      "source": [
        "y_pred = grid_rf.predict(X_test)"
      ],
      "metadata": {
        "execution": {
          "iopub.status.busy": "2023-03-24T09:20:19.661078Z",
          "iopub.status.idle": "2023-03-24T09:20:19.661653Z",
          "shell.execute_reply.started": "2023-03-24T09:20:19.661346Z",
          "shell.execute_reply": "2023-03-24T09:20:19.661372Z"
        },
        "trusted": true,
        "id": "hUarhtg9a_8i"
      },
      "execution_count": null,
      "outputs": []
    },
    {
      "cell_type": "code",
      "source": [
        "from sklearn.metrics import confusion_matrix, recall_score, precision_score, f1_score, accuracy_score\n",
        "cm = confusion_matrix(y_test, y_pred)\n",
        "\n",
        "rf_Recall = recall_score(y_test, y_pred)\n",
        "rf_Precision = precision_score(y_test, y_pred)\n",
        "rf_f1 = f1_score(y_test, y_pred)\n",
        "rf_accuracy = accuracy_score(y_test, y_pred)\n",
        "\n",
        "print(cm)"
      ],
      "metadata": {
        "execution": {
          "iopub.status.busy": "2023-03-24T09:20:19.663764Z",
          "iopub.status.idle": "2023-03-24T09:20:19.664738Z",
          "shell.execute_reply.started": "2023-03-24T09:20:19.664446Z",
          "shell.execute_reply": "2023-03-24T09:20:19.664476Z"
        },
        "trusted": true,
        "id": "x7E-w7HZa_8j"
      },
      "execution_count": null,
      "outputs": []
    },
    {
      "cell_type": "markdown",
      "source": [
        "F1 score = 2 * (precision * recall) / (precision + recall)"
      ],
      "metadata": {
        "id": "C0zA6NTUa_8j"
      }
    },
    {
      "cell_type": "code",
      "source": [
        "ndf = [(rf_Recall, rf_Precision, rf_f1, rf_accuracy)]\n",
        "\n",
        "rf_score = pd.DataFrame(data = ndf, columns=['Recall','Precision','F1 Score', 'Accuracy'])\n",
        "rf_score.insert(0, 'Random Forest with', 'No Under/Oversampling')\n",
        "rf_score"
      ],
      "metadata": {
        "execution": {
          "iopub.status.busy": "2023-03-24T09:20:19.666895Z",
          "iopub.status.idle": "2023-03-24T09:20:19.667275Z",
          "shell.execute_reply.started": "2023-03-24T09:20:19.667092Z",
          "shell.execute_reply": "2023-03-24T09:20:19.667110Z"
        },
        "trusted": true,
        "id": "JYOJhxZ_a_8k"
      },
      "execution_count": null,
      "outputs": []
    },
    {
      "cell_type": "markdown",
      "source": [
        "The result Recall score for a test set is 77%. We will try to beat that score."
      ],
      "metadata": {
        "id": "9UaFONgIa_8k"
      }
    },
    {
      "cell_type": "markdown",
      "source": [
        "# Random Resampling Imbalanced Datasets"
      ],
      "metadata": {
        "id": "jI61ksv0a_8l"
      }
    },
    {
      "cell_type": "markdown",
      "source": [
        "Resampling involves creating a new transformed version of the training dataset in which the selected examples have a different class distribution.\n",
        "\n",
        "There are two main approaches to random resampling for imbalanced classification; they are oversampling and undersampling.\n",
        "\n",
        "* Random Oversampling: Randomly duplicate examples in the minority class.\n",
        "* Random Undersampling: Randomly delete examples in the majority class.\n",
        "\n",
        "They are referred to as “naive resampling” methods because they assume nothing about the data and no heuristics are used. This makes them simple to implement and fast to execute, which is **desirable for very large and complex datasets**.\n",
        "\n",
        "#### Important\n",
        "Change to the class distribution should be only applied to the **training dataset**. The intent is to influence the fit of the models. The resampling is not applied to the test or holdout dataset used to evaluate the performance of a model."
      ],
      "metadata": {
        "id": "2HNBskkJa_8l"
      }
    },
    {
      "cell_type": "markdown",
      "source": [
        "## Random Oversampling"
      ],
      "metadata": {
        "id": "oLXfjwM2a_8m"
      }
    },
    {
      "cell_type": "markdown",
      "source": [
        "Oversampling involves increasing the number of instances in the minority class by creating synthetic data points. This can be done using techniques such as duplication, interpolation, or the creation of new instances using generative models. Oversampling can help improve the performance of machine learning models by providing more representative data for the minority class."
      ],
      "metadata": {
        "id": "0zY1Cq9Ya_8m"
      }
    },
    {
      "cell_type": "markdown",
      "source": [
        "The random oversampling may increase the likelihood of occurring overfitting, since it makes exact copies of the minority class examples. Let's say every data point from the minority class is copied 6 times before making the splits. If we did a 3-fold validation, each fold has (on average) 2 copies of each point! In this way a classifier might construct rules that are apparently accurate, but actually cover one replicated example."
      ],
      "metadata": {
        "id": "ie9qNPsCa_8m"
      }
    },
    {
      "cell_type": "markdown",
      "source": [
        "\n"
      ],
      "metadata": {
        "id": "SemyWY3La_8n"
      }
    },
    {
      "cell_type": "code",
      "source": [
        "from imblearn.over_sampling import RandomOverSampler\n",
        "# define oversampling strategy\n",
        "ros = RandomOverSampler(random_state=42)"
      ],
      "metadata": {
        "execution": {
          "iopub.status.busy": "2023-03-24T09:20:19.668791Z",
          "iopub.status.idle": "2023-03-24T09:20:19.669363Z",
          "shell.execute_reply.started": "2023-03-24T09:20:19.669047Z",
          "shell.execute_reply": "2023-03-24T09:20:19.669074Z"
        },
        "trusted": true,
        "id": "5yP_fjqWa_8n"
      },
      "execution_count": null,
      "outputs": []
    },
    {
      "cell_type": "code",
      "source": [
        "# fit and apply the transform\n",
        "X_over, y_over = ros.fit_resample(X_train, y_train)"
      ],
      "metadata": {
        "execution": {
          "iopub.status.busy": "2023-03-24T09:20:19.671054Z",
          "iopub.status.idle": "2023-03-24T09:20:19.671633Z",
          "shell.execute_reply.started": "2023-03-24T09:20:19.671329Z",
          "shell.execute_reply": "2023-03-24T09:20:19.671356Z"
        },
        "trusted": true,
        "id": "ulqcTw-oa_8o"
      },
      "execution_count": null,
      "outputs": []
    },
    {
      "cell_type": "code",
      "source": [
        "print('Genuine:', y_over.value_counts()[0], '/', round(y_over.value_counts()[0]/len(y_over) * 100,2), '% of the dataset')\n",
        "print('Frauds:', y_over.value_counts()[1], '/',round(y_over.value_counts()[1]/len(y_over) * 100,2), '% of the dataset')"
      ],
      "metadata": {
        "execution": {
          "iopub.status.busy": "2023-03-24T09:20:19.673042Z",
          "iopub.status.idle": "2023-03-24T09:20:19.673461Z",
          "shell.execute_reply.started": "2023-03-24T09:20:19.673240Z",
          "shell.execute_reply": "2023-03-24T09:20:19.673259Z"
        },
        "trusted": true,
        "id": "7gmUkddea_8p"
      },
      "execution_count": null,
      "outputs": []
    },
    {
      "cell_type": "markdown",
      "source": [
        "###  Imbalanced-Learn Pipeline"
      ],
      "metadata": {
        "id": "vWP3wyzDa_8p"
      }
    },
    {
      "cell_type": "markdown",
      "source": [
        "The purpose of the pipeline is to assemble several steps that can be cross-validated together while setting different parameters.\n",
        "\n",
        "During the cross-validation process we should split into training and validation segments. Then, on each segment, we should:\n",
        "\n",
        "1. Oversample the minority class.\n",
        "2. Train the classifier on the training segment.\n",
        "3. Validate the classifier on the remaining segment.\n",
        "\n",
        "Pipeline is a great way to do this in a smart way.\n",
        "\n",
        "The imblearn package contains a lot of different samplers for oversampling and undersampling. These samplers can not be placed in a standard sklearn pipeline.\n",
        "\n",
        "To allow for using a pipeline with these samplers, the imblearn package also implements an extended pipeline which has a bunch of extra functions to do with transforming and sampling."
      ],
      "metadata": {
        "id": "ZJ7QnPD0a_8p"
      }
    },
    {
      "cell_type": "markdown",
      "source": [
        "###  Training model"
      ],
      "metadata": {
        "id": "vyvXUhMja_8q"
      }
    },
    {
      "cell_type": "code",
      "source": [
        "from imblearn.pipeline import Pipeline, make_pipeline\n",
        "\n",
        "random_overs_pipeline = make_pipeline(RandomOverSampler(random_state=42), \n",
        "                              RandomForestClassifier(n_estimators=100, random_state=13))\n",
        "#cross_val_score(random_overs_pipeline, X_train, y_train, scoring='recall', cv=kf)"
      ],
      "metadata": {
        "execution": {
          "iopub.status.busy": "2023-03-24T09:20:19.675012Z",
          "iopub.status.idle": "2023-03-24T09:20:19.675404Z",
          "shell.execute_reply.started": "2023-03-24T09:20:19.675208Z",
          "shell.execute_reply": "2023-03-24T09:20:19.675226Z"
        },
        "trusted": true,
        "id": "pwjOY6URa_8q"
      },
      "execution_count": null,
      "outputs": []
    },
    {
      "cell_type": "code",
      "source": [
        "score2 = cross_val_score(random_overs_pipeline, X_train, y_train, scoring='recall', cv=kf)\n",
        "print(\"Cross Validation Recall Scores are: {}\".format(score2))\n",
        "print(\"Average Cross Validation Recall score: {}\".format(score2.mean()))"
      ],
      "metadata": {
        "execution": {
          "iopub.status.busy": "2023-03-24T09:20:19.676893Z",
          "iopub.status.idle": "2023-03-24T09:20:19.677460Z",
          "shell.execute_reply.started": "2023-03-24T09:20:19.677154Z",
          "shell.execute_reply": "2023-03-24T09:20:19.677179Z"
        },
        "trusted": true,
        "id": "Rc4hca4Ca_8r"
      },
      "execution_count": null,
      "outputs": []
    },
    {
      "cell_type": "markdown",
      "source": [
        "###  GridSearchCV"
      ],
      "metadata": {
        "id": "aUKr-LL0a_8r"
      }
    },
    {
      "cell_type": "code",
      "source": [
        "new_params = {'randomforestclassifier__' + key: params[key] for key in params}\n",
        "grid_over_rf = GridSearchCV(random_overs_pipeline, param_grid=new_params, cv=kf, scoring='recall',\n",
        "                        return_train_score=True)\n",
        "grid_over_rf.fit(X_train, y_train)"
      ],
      "metadata": {
        "execution": {
          "iopub.status.busy": "2023-03-24T09:20:19.678984Z",
          "iopub.status.idle": "2023-03-24T09:20:19.679550Z",
          "shell.execute_reply.started": "2023-03-24T09:20:19.679238Z",
          "shell.execute_reply": "2023-03-24T09:20:19.679275Z"
        },
        "trusted": true,
        "id": "tNMz0hS7a_8r"
      },
      "execution_count": null,
      "outputs": []
    },
    {
      "cell_type": "code",
      "source": [
        "print('Best parameters:', grid_over_rf.best_params_)\n",
        "print('Best score:', grid_over_rf.best_score_)"
      ],
      "metadata": {
        "execution": {
          "iopub.status.busy": "2023-03-24T09:20:19.681148Z",
          "iopub.status.idle": "2023-03-24T09:20:19.681733Z",
          "shell.execute_reply.started": "2023-03-24T09:20:19.681420Z",
          "shell.execute_reply": "2023-03-24T09:20:19.681466Z"
        },
        "trusted": true,
        "id": "GLxeWSSga_8s"
      },
      "execution_count": null,
      "outputs": []
    },
    {
      "cell_type": "markdown",
      "source": [
        "###  Confusion matrix and scores"
      ],
      "metadata": {
        "id": "xURK1h3La_8s"
      }
    },
    {
      "cell_type": "code",
      "source": [
        "y_pred = grid_over_rf.best_estimator_.named_steps['randomforestclassifier'].predict(X_test)"
      ],
      "metadata": {
        "execution": {
          "iopub.status.busy": "2023-03-24T09:20:19.683309Z",
          "iopub.status.idle": "2023-03-24T09:20:19.683720Z",
          "shell.execute_reply.started": "2023-03-24T09:20:19.683537Z",
          "shell.execute_reply": "2023-03-24T09:20:19.683555Z"
        },
        "trusted": true,
        "id": "i3CqfAoNa_8t"
      },
      "execution_count": null,
      "outputs": []
    },
    {
      "cell_type": "code",
      "source": [
        "cm = confusion_matrix(y_test, y_pred)\n",
        "\n",
        "over_rf_Recall = recall_score(y_test, y_pred)\n",
        "over_rf_Precision = precision_score(y_test, y_pred)\n",
        "over_rf_f1 = f1_score(y_test, y_pred)\n",
        "over_rf_accuracy = accuracy_score(y_test, y_pred)\n",
        "\n",
        "print(cm)"
      ],
      "metadata": {
        "execution": {
          "iopub.status.busy": "2023-03-24T09:20:19.685716Z",
          "iopub.status.idle": "2023-03-24T09:20:19.686240Z",
          "shell.execute_reply.started": "2023-03-24T09:20:19.685966Z",
          "shell.execute_reply": "2023-03-24T09:20:19.685992Z"
        },
        "trusted": true,
        "id": "FM1sgSJPa_8t"
      },
      "execution_count": null,
      "outputs": []
    },
    {
      "cell_type": "code",
      "source": [
        "ndf = [(over_rf_Recall, over_rf_Precision, over_rf_f1, over_rf_accuracy)]\n",
        "\n",
        "over_rf_score = pd.DataFrame(data = ndf, columns=['Recall','Precision','F1 Score', 'Accuracy'])\n",
        "over_rf_score.insert(0, 'Random Forest with', 'Random Oversampling')\n",
        "over_rf_score"
      ],
      "metadata": {
        "execution": {
          "iopub.status.busy": "2023-03-24T09:20:19.687822Z",
          "iopub.status.idle": "2023-03-24T09:20:19.688423Z",
          "shell.execute_reply.started": "2023-03-24T09:20:19.688103Z",
          "shell.execute_reply": "2023-03-24T09:20:19.688137Z"
        },
        "trusted": true,
        "id": "GHfJnjyma_8u"
      },
      "execution_count": null,
      "outputs": []
    },
    {
      "cell_type": "code",
      "source": [
        "predictions = pd.concat([rf_score, over_rf_score, smote_rf_score, SMOTETomek_rf_score, grid_rfb_score], ignore_index=True, sort=False)\n",
        "predictions.sort_values(by=['Recall'], ascending=False)"
      ],
      "metadata": {
        "execution": {
          "iopub.status.busy": "2023-03-24T09:20:19.740058Z",
          "iopub.status.idle": "2023-03-24T09:20:19.740871Z",
          "shell.execute_reply.started": "2023-03-24T09:20:19.740654Z",
          "shell.execute_reply": "2023-03-24T09:20:19.740677Z"
        },
        "trusted": true,
        "id": "2Ur7fA2ea_8u"
      },
      "execution_count": null,
      "outputs": []
    },
    {
      "cell_type": "markdown",
      "source": [
        "#  Other Metrics"
      ],
      "metadata": {
        "id": "w0re4U5ra_8u"
      }
    },
    {
      "cell_type": "markdown",
      "source": [
        "##  AUC-ROC Curve"
      ],
      "metadata": {
        "id": "vsLN5BgXa_8v"
      }
    },
    {
      "cell_type": "markdown",
      "source": [
        "AUC (Area Under The Curve) ROC (Receiver Operating Characteristics) curve.\n",
        "\n",
        "ROC is a probability curve and AUC represents the degree or measure of separability. It tells how much the model is capable of distinguishing between classes. Higher the AUC, the better the model is at predicting 0 classes as 0 and 1 classes as 1.\n",
        "\n",
        "The ROC curve is plotted with TPR against the FPR where TPR is on the y-axis and FPR is on the x-axis.\n",
        "\n",
        "An excellent model has AUC near to the 1 which means it has a good measure of separability. A poor model has an AUC near 0 which means it has the worst measure of separability.\n",
        "\n",
        "* When AUC is 0.7, it means there is a 70% chance that the model will be able to distinguish between positive class and negative class.\n",
        "* When AUC is approximately 0.5, the model has no discrimination capacity to distinguish between positive class and negative class.\n",
        "* When AUC is approximately 0, the model is predicting a negative class as a positive class and vice versa."
      ],
      "metadata": {
        "id": "tQy5bD8ua_8v"
      }
    },
    {
      "cell_type": "code",
      "source": [
        "from sklearn.metrics import roc_auc_score\n",
        "ROCAUCscore = roc_auc_score(y_test, y_pred)\n",
        "print(f\"AUC-ROC Curve for Random Forest with Class weights: {ROCAUCscore:.4f}\")"
      ],
      "metadata": {
        "execution": {
          "iopub.status.busy": "2023-03-24T09:20:19.742045Z",
          "iopub.status.idle": "2023-03-24T09:20:19.742452Z",
          "shell.execute_reply.started": "2023-03-24T09:20:19.742248Z",
          "shell.execute_reply": "2023-03-24T09:20:19.742265Z"
        },
        "trusted": true,
        "id": "_COLF0IVa_8v"
      },
      "execution_count": null,
      "outputs": []
    },
    {
      "cell_type": "code",
      "source": [
        "y_proba = grid_rfb.predict_proba(X_test)\n",
        "\n",
        "from sklearn.metrics import roc_curve\n",
        "from sklearn.metrics import RocCurveDisplay\n",
        "def plot_auc_roc_curve(y_test, y_pred):\n",
        "    fpr, tpr, _ = roc_curve(y_test, y_pred)\n",
        "    roc_display = RocCurveDisplay(fpr=fpr, tpr=tpr).plot()\n",
        "    roc_display.figure_.set_size_inches(5,5)\n",
        "    plt.plot([0, 1], [0, 1], color = 'g')\n",
        "# Plots the ROC curve using the sklearn methods - Good plot\n",
        "plot_auc_roc_curve(y_test, y_proba[:, 1])\n",
        "# Plots the ROC curve using the sklearn methods - Bad plot\n",
        "#plot_sklearn_roc_curve(y_test, y_pred)"
      ],
      "metadata": {
        "execution": {
          "iopub.status.busy": "2023-03-24T09:20:19.743470Z",
          "iopub.status.idle": "2023-03-24T09:20:19.743849Z",
          "shell.execute_reply.started": "2023-03-24T09:20:19.743662Z",
          "shell.execute_reply": "2023-03-24T09:20:19.743680Z"
        },
        "trusted": true,
        "id": "aUbiQOqPa_8w"
      },
      "execution_count": null,
      "outputs": []
    },
    {
      "cell_type": "markdown",
      "source": [
        "## Precision-Recall Curve (PR curve)"
      ],
      "metadata": {
        "id": "SiiCtDl0a_8w"
      }
    },
    {
      "cell_type": "markdown",
      "source": [
        "The precision-recall curve shows the tradeoff between precision and recalls for different thresholds."
      ],
      "metadata": {
        "id": "iC-cRYowa_8x"
      }
    },
    {
      "cell_type": "code",
      "source": [
        "from sklearn.metrics import precision_recall_curve\n",
        "from sklearn.metrics import PrecisionRecallDisplay\n",
        "\n",
        "display = PrecisionRecallDisplay.from_estimator(\n",
        "    grid_rfb, X_test, y_test, name=\"Average precision\")\n",
        "_ = display.ax_.set_title(\"Random Forest with Class weights\")"
      ],
      "metadata": {
        "execution": {
          "iopub.status.busy": "2023-03-24T09:20:19.745271Z",
          "iopub.status.idle": "2023-03-24T09:20:19.745650Z",
          "shell.execute_reply.started": "2023-03-24T09:20:19.745469Z",
          "shell.execute_reply": "2023-03-24T09:20:19.745486Z"
        },
        "trusted": true,
        "id": "3b5VIP53a_8x"
      },
      "execution_count": null,
      "outputs": []
    },
    {
      "cell_type": "markdown",
      "source": [
        "We can clearly see the point where we have to start trading a lot of Precision for better Recall score!\n",
        "\n",
        "Average precision (AP) summarizes such a plot as the weighted mean of precisions achieved at each threshold, with the increase in recall from the previous threshold."
      ],
      "metadata": {
        "id": "JQ0tC1Bya_8y"
      }
    }
  ]
}